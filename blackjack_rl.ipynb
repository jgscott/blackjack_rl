{
 "cells": [
  {
   "cell_type": "code",
   "execution_count": null,
   "metadata": {},
   "outputs": [],
   "source": [
    "import gym\n",
    "import matplotlib.pyplot as plt\n",
    "import numpy as np\n",
    "import sys\n",
    "\n",
    "from gym import spaces\n",
    "from gym.utils import seeding\n",
    "\n",
    "\n",
    "def cmp(a, b):\n",
    "    return float(a > b) - float(a < b)\n",
    "\n",
    "# 1 = Ace, 2-10 = Number cards, Jack/Queen/King = 10\n",
    "deck = [1, 2, 3, 4, 5, 6, 7, 8, 9, 10, 10, 10, 10]\n",
    "\n",
    "\n",
    "def draw_card(np_random):\n",
    "    return int(np_random.choice(deck))\n",
    "\n",
    "\n",
    "def draw_hand(np_random):\n",
    "    return [draw_card(np_random), draw_card(np_random)]\n",
    "\n",
    "\n",
    "def usable_ace(hand):  # Does this hand have a usable ace?\n",
    "    if 1 in hand and sum(hand) + 10 <= 21:\n",
    "        return 1\n",
    "    else:\n",
    "        return 0\n",
    "\n",
    "\n",
    "def sum_hand(hand):  # Return current hand total\n",
    "    if usable_ace(hand):\n",
    "        return sum(hand) + 10\n",
    "    return sum(hand)\n",
    "\n",
    "\n",
    "def is_bust(hand):  # Is this hand a bust?\n",
    "    return sum_hand(hand) > 21\n",
    "\n",
    "\n",
    "def score(hand):  # What is the score of this hand (0 if bust)\n",
    "    return 0 if is_bust(hand) else sum_hand(hand)\n",
    "\n",
    "\n",
    "def is_natural(hand):  # Is this hand a natural blackjack?\n",
    "    return sorted(hand) == [1, 10]\n",
    "\n",
    "\n",
    "# modified from a class I found through the OpenAI Gym website\n",
    "class BlackjackEnv(gym.Env):\n",
    "    \"\"\"Simple blackjack environment\n",
    "    cards are drawn from an infinite deck so there is no advantage to remembering cards\n",
    "    Face cards (Jack, Queen, King) have point value 10.\n",
    "    Aces can either count as 11 or 1, and it's called 'usable' at 11.\n",
    "    The reward for winning is +1, drawing is 0, and losing is -1.\n",
    "    The observation of a 3-tuple of:\n",
    "        - the players current hand value (4-20, mapped to 0-16)\n",
    "        - the dealer's one showing card (1-10 where 1 is ace, mapped to 0-9)\n",
    "        - whether or not the player holds a usable ace (0 or 1).\n",
    "    This environment corresponds to the version of the blackjack problem\n",
    "    described in Example 5.1 in Reinforcement Learning: An Introduction\n",
    "    by Sutton and Barto.\n",
    "    \"\"\"\n",
    "    def __init__(self):\n",
    "        super(BlackjackEnv, self).__init__()\n",
    "        \n",
    "        self.action_space = spaces.Discrete(2)\n",
    "        self.observation_space = spaces.Tuple((\n",
    "            spaces.Discrete(18),  # 4-21 are the possible hand values for a player (since A-2 counts as 13)\n",
    "            spaces.Discrete(10),  # 1-10 are possible upcards for dealer(Ace = 1)\n",
    "            spaces.Discrete(2)))  # 0 = stay, 1 = hit\n",
    "        \n",
    "        self.done = False\n",
    "        \n",
    "        self.seed()\n",
    "\n",
    "        # initialize hands as empty \n",
    "        self.player = []\n",
    "        self.dealer = []\n",
    "        \n",
    "        # Start the first game\n",
    "        self.reset()\n",
    "\n",
    "    def seed(self, seed=None):\n",
    "        self.np_random, seed = seeding.np_random(seed)\n",
    "        return [seed]\n",
    "\n",
    "    def _take_action(self, action):\n",
    "        if action:  # hit: add a card to players hand and return\n",
    "            self.player.append(draw_card(self.np_random))\n",
    "        \n",
    "        # update value of player's hand after any changes   \n",
    "        self.player_value = sum_hand(self.player)\n",
    "            \n",
    "    def step(self, action):\n",
    "        \n",
    "        info = {}\n",
    "        # take the action\n",
    "        assert self.action_space.contains(action)\n",
    "        self._take_action(action)\n",
    "        \n",
    "        if is_bust(self.player):\n",
    "            self.done = True\n",
    "            rewards = -1.\n",
    "        \n",
    "        elif action == 0:\n",
    "        # we're done taking cards but haven't busted and now it's the dealer's turn\n",
    "            self.done = True\n",
    "            while sum_hand(self.dealer) < 17:\n",
    "                self.dealer.append(draw_card(self.np_random))\n",
    "            # win or lose\n",
    "            rewards = cmp(score(self.player), score(self.dealer))\n",
    "        \n",
    "        else:\n",
    "        # we're not done taking cards\n",
    "            rewards = 0.0\n",
    "            self.done = False\n",
    "        \n",
    "        return self._get_obs(), rewards, self.done, info\n",
    "\n",
    "    def _get_obs(self):\n",
    "        # first element is player obs: 4-20 get mapped to 0-16\n",
    "        # second element is dealer upcard: 1-10 get mapped to 0-9\n",
    "        return (sum_hand(self.player)-4, self.dealer[0]-1, usable_ace(self.player))\n",
    "\n",
    "    def reset(self):\n",
    "        self.dealer = draw_hand(self.np_random)\n",
    "        self.player = draw_hand(self.np_random)\n",
    "        self.done = False\n",
    "        return self._get_obs()\n",
    "    \n",
    "    def render(self, mode='human', close=False):\n",
    "        print(f'Player Hand: {self.player}')\n",
    "        print(f'Player Value: {sum_hand(self.player)}')\n",
    "        print(f'Dealer Upcard: {self.dealer[0]}')\n",
    "        print(f'Done: {self.done}')\n",
    "        \n",
    "        print()\n"
   ]
  },
  {
   "cell_type": "code",
   "execution_count": 838,
   "metadata": {},
   "outputs": [
    {
     "name": "stdout",
     "output_type": "stream",
     "text": [
      "average reward per episode =  -0.375\n"
     ]
    }
   ],
   "source": [
    "import random\n",
    "env = BlackjackEnv()\n",
    "\n",
    "total_rewards = 0\n",
    "NUM_EPISODES = 1000\n",
    "\n",
    "# take random actions\n",
    "for i in range(NUM_EPISODES):\n",
    "    env.reset()\n",
    "    while env.done == False:\n",
    "        action = env.action_space.sample()\n",
    "        new_state, reward, done, info = env.step(action)\n",
    "        state = new_state\n",
    "        total_rewards += reward\n",
    "avg_reward = total_rewards / NUM_EPISODES\n",
    "print('average reward per episode = ', avg_reward)"
   ]
  },
  {
   "cell_type": "code",
   "execution_count": 772,
   "metadata": {},
   "outputs": [],
   "source": [
    "import random\n",
    "\n",
    "class BlackjackPolicy:\n",
    "# defines an epsilon-greedy policy\n",
    "    def __init__(self, env, initial_hit_prob = 0.5):\n",
    "        # initial_val is the initial probability of a hit for each observation\n",
    "        assert initial_hit_prob >= 0 and initial_hit_prob <= 1\n",
    "        self.prob = np.zeros([env.observation_space[0].n, env.observation_space[1].n, env.observation_space[2].n, env.action_space.n])\n",
    "        self.prob[:,:,:,0] = 1.0 - initial_hit_prob\n",
    "        self.prob[:,:,:,1] = initial_hit_prob\n",
    "    \n",
    "    def get_probs(self, state):\n",
    "        weights = self.prob[state[0], state[1], state[2],:]\n",
    "        return weights\n",
    "    \n",
    "    def choose_action(self, state):\n",
    "        weights = self.prob[state[0], state[1], state[2],:]\n",
    "        a = np.random.choice(range(weights.size), p=weights)\n",
    "        return a\n",
    "    \n",
    "    def update_prob(self, episode, Q, eps):\n",
    "        # loop over visited states from the episode and update the\n",
    "        # policy for those states\n",
    "        # epsilon is the probability of taking a random action (e-greedy)\n",
    "        for state, action, reward in reversed(episode):\n",
    "            best_action = np.argmax(Q[state[0], state[1], state[2], :])\n",
    "        if(best_action == 0):\n",
    "            self.prob[state[0], state[1], state[2],0] = 1 - eps + eps/2\n",
    "            self.prob[state[0], state[1], state[2],1] = eps/2\n",
    "        else:\n",
    "            # best_action == 1\n",
    "            self.prob[state[0], state[1], state[2],0] = eps/2\n",
    "            self.prob[state[0], state[1], state[2],1] = 1 - eps + eps/2\n",
    " \n",
    "    def get_optimal_policy(self):\n",
    "        optimal_policy = np.zeros([env.observation_space[0].n, env.observation_space[1].n, env.observation_space[2].n], dtype=np.int8)\n",
    "        for i in range(env.observation_space[0].n):\n",
    "            for j in range(env.observation_space[1].n):\n",
    "                for k in range(env.observation_space[2].n):\n",
    "                    optimal_policy[i,j,k] = np.argmax(self.prob[i,j,k,:])\n",
    "        return optimal_policy[:,:,0], optimal_policy[:,:,1]\n",
    "    \n",
    "    \n",
    "def play_game(env, policy):\n",
    "    # policy is of class BlackjackPolicy\n",
    "    episode = []\n",
    "    \n",
    "    # start the game\n",
    "    state = env.reset()\n",
    "    while env.done == False:\n",
    "        # check for blackjack\n",
    "        if state[0] == 17:\n",
    "            # we're done: stay and see whether we win or draw\n",
    "            action = 0\n",
    "            new_state, rewards, env.done, info = env.step(0)\n",
    "        else:\n",
    "            action = policy.choose_action(state)\n",
    "            new_state, rewards, env.done, info = env.step(action)\n",
    "        episode.append([state, action, rewards])\n",
    "        state = new_state\n",
    "\n",
    "    return episode\n",
    "\n",
    "\n",
    "def update_QC(Q, C, episode, alpha=0.001, gamma = 1.0):\n",
    "    # default assumes no discounting, which makes sense in blackjack\n",
    "    # Q is the current estimated state-action value function\n",
    "    # C is an array of the same size that counts how many times we've visited\n",
    "    #   a specific state-action pair -- needed for updating Q in policy iteration\n",
    "    returns = 0.0\n",
    "    \n",
    "    # work backwards to sum rewards and attribute those to each visited (state, action) pair in the episode\n",
    "    total_rewards = 0.0\n",
    "    for state, action, reward in reversed(episode):\n",
    "        total_rewards = gamma*total_rewards + reward\n",
    "        C[state[0], state[1], state[2], action] += 1\n",
    "        current_Q_val = Q[state[0], state[1], state[2], action]\n",
    "        current_C_val = C[state[0], state[1], state[2], action]\n",
    "        learn_rate = max(1.0/current_C_val, alpha)\n",
    "        Q[state[0], state[1], state[2], action] += learn_rate*(total_rewards - current_Q_val)\n",
    "\n",
    "    return Q, C\n",
    "\n"
   ]
  },
  {
   "cell_type": "code",
   "execution_count": 769,
   "metadata": {},
   "outputs": [
    {
     "name": "stdout",
     "output_type": "stream",
     "text": [
      "(6, 6, 1)\n",
      "[0.2 0.8]\n",
      "1\n",
      "[[(15, 6, 0), 1, -1.0]]\n"
     ]
    }
   ],
   "source": [
    "# just messing around\n",
    "\n",
    "env = BlackjackEnv()\n",
    "my_policy = BlackjackPolicy(env, 0.8)\n",
    "s = env.observation_space.sample()\n",
    "print(s)\n",
    "w = my_policy.get_probs(state)\n",
    "print(w)\n",
    "a = my_policy.choose_action(state)\n",
    "print(a)\n",
    "\n",
    "ep1 = play_game(env, my_policy)\n",
    "print(ep1)"
   ]
  },
  {
   "cell_type": "code",
   "execution_count": 792,
   "metadata": {},
   "outputs": [
    {
     "name": "stdout",
     "output_type": "stream",
     "text": [
      "done\n"
     ]
    }
   ],
   "source": [
    "# run policy iteration of an epsilon-greedy policy\n",
    "\n",
    "NUM_ROUNDS = 2000000\n",
    "ALPHA = 0.001\n",
    "epsilon = 1 # start with random actions\n",
    "epsilon_min = 0.1  # where epsilon eventually lands\n",
    "decay = 0.9999  # decay rate of epsilon, the non-greedy component\n",
    "\n",
    "# initialize the environment, policy, Q and C arrays\n",
    "env = BlackjackEnv()\n",
    "my_policy = BlackjackPolicy(env, initial_hit_prob = 0.4)\n",
    "Q = np.zeros([env.observation_space[0].n, env.observation_space[1].n, env.observation_space[2].n, env.action_space.n])\n",
    "C = np.zeros([env.observation_space[0].n, env.observation_space[1].n, env.observation_space[2].n, env.action_space.n])\n",
    "\n",
    "# Jim Berger enters the room\n",
    "for i in range(NUM_ROUNDS):\n",
    "    env.reset()\n",
    "    decay = decay*decay\n",
    "    epsilon = max(epsilon_min, epsilon*decay)\n",
    "    episode = play_game(env, my_policy)\n",
    "    Q,C = update_QC(Q, C, episode, ALPHA)\n",
    "    my_policy.update_prob(episode, Q, epsilon)\n",
    "\n",
    "print('done')"
   ]
  },
  {
   "cell_type": "code",
   "execution_count": 793,
   "metadata": {},
   "outputs": [
    {
     "data": {
      "text/plain": [
       "<matplotlib.image.AxesImage at 0x7fdba8fcd250>"
      ]
     },
     "execution_count": 793,
     "metadata": {},
     "output_type": "execute_result"
    },
    {
     "data": {
      "image/png": "[encoded data removed]",
      "text/plain": [
       "<Figure size 432x288 with 1 Axes>"
      ]
     },
     "metadata": {
      "needs_background": "light"
     },
     "output_type": "display_data"
    }
   ],
   "source": [
    "pi_hat = my_policy.get_optimal_policy()\n",
    "plt.imshow(pi_hat[0], origin='lower')"
   ]
  },
  {
   "cell_type": "code",
   "execution_count": 794,
   "metadata": {},
   "outputs": [
    {
     "data": {
      "text/plain": [
       "<matplotlib.image.AxesImage at 0x7fdbb92bcd30>"
      ]
     },
     "execution_count": 794,
     "metadata": {},
     "output_type": "execute_result"
    },
    {
     "data": {
      "image/png": "[encoded data removed]",
      "text/plain": [
       "<Figure size 432x288 with 1 Axes>"
      ]
     },
     "metadata": {
      "needs_background": "light"
     },
     "output_type": "display_data"
    }
   ],
   "source": [
    "plt.imshow(pi_hat[1], origin='lower')"
   ]
  },
  {
   "cell_type": "code",
   "execution_count": 835,
   "metadata": {},
   "outputs": [
    {
     "data": {
      "image/png": "[encoded data removed]",
      "text/plain": [
       "<Figure size 800x500 with 2 Axes>"
      ]
     },
     "metadata": {
      "needs_background": "light"
     },
     "output_type": "display_data"
    }
   ],
   "source": [
    "plt.rcParams['figure.figsize'] = [8, 5]\n",
    "plt.rcParams['figure.dpi'] = 100 # 200 e.g. is really fine, but slower\n",
    "\n",
    "player = range(4,22)\n",
    "dealer = range(1,11)\n",
    "\n",
    "policy = pi_hat[0]\n",
    "\n",
    "fig, ax = plt.subplots()\n",
    "im = ax.imshow(policy, origin='lower')\n",
    "\n",
    "# We want to show all ticks...\n",
    "ax.set_yticks(np.arange(len(player)))\n",
    "ax.set_xticks(np.arange(len(dealer)))\n",
    "\n",
    "# ... and label them with the respective list entries\n",
    "ax.set_yticklabels(player)\n",
    "ax.set_xticklabels(dealer)\n",
    "\n",
    "# Loop over data dimensions and create text annotations.\n",
    "# for i in range(len(player)):\n",
    "#     for j in range(len(dealer)):\n",
    "#         text = ax.text(j, i, policy[i, j],\n",
    "#                        ha=\"center\", va=\"center\", color=\"r\")\n",
    "\n",
    "ax.set_title(\"Optimal blackjack strategy: no usable ace \\n(see Sutton & Barto, Fig. 5.2)\")\n",
    "ax.set_ylim(6.5,17.5)\n",
    "fig.tight_layout()\n",
    "cb = plt.colorbar(im, ticks=[0,1])\n",
    "plt.show()"
   ]
  },
  {
   "cell_type": "code",
   "execution_count": 836,
   "metadata": {},
   "outputs": [
    {
     "data": {
      "image/png": "[encoded data removed]",
      "text/plain": [
       "<Figure size 800x500 with 2 Axes>"
      ]
     },
     "metadata": {
      "needs_background": "light"
     },
     "output_type": "display_data"
    }
   ],
   "source": [
    "\n",
    "player = range(4,22)\n",
    "dealer = range(1,11)\n",
    "\n",
    "policy = pi_hat[1]\n",
    "\n",
    "fig, ax = plt.subplots()\n",
    "im = ax.imshow(policy, origin='lower')\n",
    "\n",
    "# We want to show all ticks...\n",
    "ax.set_yticks(np.arange(len(player)))\n",
    "ax.set_xticks(np.arange(len(dealer)))\n",
    "\n",
    "# ... and label them with the respective list entries\n",
    "ax.set_yticklabels(player)\n",
    "ax.set_xticklabels(dealer)\n",
    "\n",
    "# Loop over data dimensions and create text annotations.\n",
    "#for i in range(len(player)):\n",
    "#    for j in range(len(dealer)):\n",
    "#        text = ax.text(j, i, policy[i, j],\n",
    "#                       ha=\"center\", va=\"center\", color=\"r\")\n",
    "\n",
    "ax.set_title(\"Optimal blackjack strategy: with usable ace \\n(see Sutton & Barto, Fig. 5.2)\")\n",
    "ax.set_ylim(7.5,17.5)\n",
    "fig.tight_layout()\n",
    "cb = plt.colorbar(im, ticks=[0,1])\n",
    "plt.show()"
   ]
  }
 ],
 "metadata": {
  "kernelspec": {
   "display_name": "Python 3",
   "language": "python",
   "name": "python3"
  },
  "language_info": {
   "codemirror_mode": {
    "name": "ipython",
    "version": 3
   },
   "file_extension": ".py",
   "mimetype": "text/x-python",
   "name": "python",
   "nbconvert_exporter": "python",
   "pygments_lexer": "ipython3",
   "version": "3.8.5"
  }
 },
 "nbformat": 4,
 "nbformat_minor": 4
}
